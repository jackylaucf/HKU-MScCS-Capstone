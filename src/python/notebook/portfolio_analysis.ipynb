{
 "cells": [
  {
   "cell_type": "code",
   "execution_count": null,
   "id": "c1571157-e384-47c4-b701-fbca0701d138",
   "metadata": {},
   "outputs": [],
   "source": [
    "import numpy as np\n",
    "import pandas as pd\n",
    "import os\n",
    "from tqdm.notebook import tqdm\n",
    "import matplotlib.pyplot as plt"
   ]
  },
  {
   "cell_type": "code",
   "execution_count": null,
   "id": "51cee11a-eae9-4d61-b61e-739ff480b8c2",
   "metadata": {},
   "outputs": [],
   "source": [
    "import time\n",
    "import logging\n",
    "time_now = int(time.time())\n",
    "logger = logging.getLogger('')\n",
    "logging.basicConfig(filename=f'portfolio_analysys.{time_now}.log', encoding='utf-8', level=logging.DEBUG)"
   ]
  },
  {
   "cell_type": "code",
   "execution_count": null,
   "id": "cc1aff69-e326-4de6-b9c4-f87b2cdfae88",
   "metadata": {},
   "outputs": [],
   "source": [
    "df = pd.read_csv('nikkei_mid_small_cap-i5r5ma50-1719447843.csv', parse_dates=['date'])"
   ]
  },
  {
   "cell_type": "code",
   "execution_count": null,
   "id": "1d3f4db2-6f69-4e77-ab72-89ebdc1e508c",
   "metadata": {},
   "outputs": [],
   "source": [
    "# Loop dataframe to get portfolio result\n",
    "\n",
    "# TODO: import the df to save time rerunning the code\n",
    "\n",
    "def portfolio_analysis(\n",
    "        _data: pd.DataFrame,\n",
    "        initial_capital = 200000,\n",
    "        threshold = 0.7,\n",
    "        logging = False,\n",
    "    ):\n",
    "    if logging:\n",
    "        logger.info(f'-----------------------')\n",
    "        logger.info(f'-----Start Logging-----')\n",
    "        logger.info(f'-----------------------')\n",
    "    # meta = []\n",
    "    dates = []\n",
    "    capitals = []\n",
    "    current = initial_capital\n",
    "    for index, row in tqdm(_data.iterrows()):\n",
    "        s_return = 0\n",
    "        s_count = 0\n",
    "        l_return = 0\n",
    "        l_count = 0\n",
    "        for i, _v in row.items():\n",
    "            if (i == 'date'):\n",
    "                if logging:\n",
    "                    logger.info(f'')\n",
    "                    logger.info(f'---{_v}---')\n",
    "                continue\n",
    "            if (type(_v) is not str):\n",
    "                continue\n",
    "            # parse array-format-string to actual array\n",
    "            v = _v[1:-1].split(',')\n",
    "            if (type(v) is list):\n",
    "                # short\n",
    "                if float(v[0]) >= threshold:\n",
    "                    if logging:\n",
    "                        logger.info(f'{i} is included in [Short] - p:{v[0]}, r:{v[3]} ')\n",
    "                    s_return = (s_return * s_count + float(v[3])) / (s_count + 1)\n",
    "                    s_count += 1\n",
    "                # long\n",
    "                if float(v[2]) >= threshold:\n",
    "                    if logging:\n",
    "                        logger.info(f'{i} is included in [Long] - p:{v[2]}, r:{v[3]} ')\n",
    "                    l_return = (l_return * l_count + float(v[3])) / (l_count + 1)\n",
    "                    l_count += 1\n",
    "        # skip if no short or long\n",
    "        if (s_count == 0 or l_count == 0):\n",
    "            if logging:\n",
    "                logger.info(f'Not doing anything: l/s count: {l_count} / {s_count}')\n",
    "                logger.info(f'Final Capital: {current}')\n",
    "            dates.append(row['date'])\n",
    "            capitals.append(current)\n",
    "            continue\n",
    "        l_capital = (current / 2) * (1 + l_return)\n",
    "        s_capital = (current / 2) * (1 - s_return)\n",
    "        if logging:\n",
    "            logger.info(f'current: {current}')\n",
    "            logger.info(f'l_return: {l_return}')\n",
    "            logger.info(f's_return: {s_return}')\n",
    "            logger.info(f'l_capital: {l_capital}')\n",
    "            logger.info(f's_capital: {s_capital}')\n",
    "        current = l_capital + s_capital\n",
    "        # print('doing trade on ' + str(row['date']))\n",
    "        # print('current: ' + str(current))\n",
    "        dates.append(row['date'])\n",
    "        capitals.append(current)\n",
    "        if logging:\n",
    "            logger.info(f'Final Capital: {current}')\n",
    "\n",
    "    data = {\n",
    "        'date': np.array(dates),\n",
    "        'capital': np.array(capitals),\n",
    "    }\n",
    "    return data\n",
    "\n",
    "portfolio_result = portfolio_analysis(df, 200000, 0.5, True)"
   ]
  },
  {
   "cell_type": "code",
   "execution_count": null,
   "id": "7193e366-ac02-4dbe-86e5-a5cfabd3a590",
   "metadata": {},
   "outputs": [],
   "source": [
    "ts = pd.Series(portfolio_result['capital'], index=portfolio_result['date'])\n",
    "ts.plot();"
   ]
  },
  {
   "cell_type": "code",
   "execution_count": null,
   "id": "0aa639c3-3da1-46cb-89a9-623b385ee3b5",
   "metadata": {},
   "outputs": [],
   "source": [
    "pd.DataFrame.from_dict(portfolio_result).to_csv('portfolio_result.csv')"
   ]
  },
  {
   "cell_type": "code",
   "execution_count": null,
   "id": "77e4d677-0e9a-4c3e-9c66-e71190293b0f",
   "metadata": {},
   "outputs": [],
   "source": []
  }
 ],
 "metadata": {
  "kernelspec": {
   "display_name": "Python 3 (ipykernel)",
   "language": "python",
   "name": "python3"
  },
  "language_info": {
   "codemirror_mode": {
    "name": "ipython",
    "version": 3
   },
   "file_extension": ".py",
   "mimetype": "text/x-python",
   "name": "python",
   "nbconvert_exporter": "python",
   "pygments_lexer": "ipython3",
   "version": "3.12.3"
  }
 },
 "nbformat": 4,
 "nbformat_minor": 5
}
