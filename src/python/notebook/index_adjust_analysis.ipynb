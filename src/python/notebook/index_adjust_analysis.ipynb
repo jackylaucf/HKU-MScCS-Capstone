{
 "cells": [
  {
   "cell_type": "code",
   "execution_count": null,
   "id": "6e43645a",
   "metadata": {},
   "outputs": [],
   "source": [
    "import numpy as np\n",
    "import pandas as pd\n",
    "import os\n",
    "from tqdm.notebook import tqdm\n",
    "import matplotlib.pyplot as plt"
   ]
  },
  {
   "cell_type": "code",
   "execution_count": null,
   "id": "57d48aab",
   "metadata": {},
   "outputs": [],
   "source": [
    "RESULT_FOLDER = os.path.abspath('./portfolio/output')\n",
    "SUFFIX = 'portfolio_result_long.csv'\n",
    "INDEX_PORTFOLIO_FOLDER = os.path.abspath('./index')\n",
    "INITIAL_CAPITAL = 200000\n",
    "\n",
    "for source_file in tqdm(os.listdir(RESULT_FOLDER)):\n",
    "    if source_file.endswith(SUFFIX):\n",
    "        _df = pd.read_csv(RESULT_FOLDER + '/' + source_file,\n",
    "                          parse_dates=['date'],\n",
    "                          index_col=0)\n",
    "        [_index, _model_type, _, _threshold] = source_file\\\n",
    "            .replace(SUFFIX, '')\\\n",
    "            .replace('ma50', '')\\\n",
    "            .split('-')\n",
    "        # print(_index, _model_type, _threshold)\n",
    "        _index_return_df = pd.read_csv(INDEX_PORTFOLIO_FOLDER + '/' + _index + '.csv',\n",
    "                                       parse_dates=['date'],\n",
    "                                       index_col=0)\n",
    "        _df.rename(columns={'capital': 'portfolio'}, inplace=True)\n",
    "        _index_return_df.rename(columns={'capital': 'index'}, inplace=True)\n",
    "        combined = _df.merge(_index_return_df, how='left', on='date')\n",
    "        combined.set_index(['date'], inplace=True)\n",
    "        combined['index_adjusted_port'] = (\n",
    "            combined['portfolio'] - combined['index'] + INITIAL_CAPITAL\n",
    "        )\n",
    "        combined.plot()\n",
    "        plt.savefig(RESULT_FOLDER + '/_index_adjust/index_adjusted_' + source_file.replace('.csv', '.png'))\n",
    "        plt.clf()\n",
    "        combined.to_csv(RESULT_FOLDER + '/_index_adjust/index_adjusted_' + source_file)"
   ]
  },
  {
   "cell_type": "code",
   "execution_count": null,
   "id": "4f1ba885",
   "metadata": {},
   "outputs": [],
   "source": [
    "# for hsi sector\n",
    "RESULT_FOLDER = os.path.abspath('./portfolio/output')\n",
    "SUFFIX = '.csv'\n",
    "INDEX_PORTFOLIO_FOLDER = os.path.abspath('./index')\n",
    "INITIAL_CAPITAL = 200000\n",
    "\n",
    "for source_file in tqdm(os.listdir(RESULT_FOLDER)):\n",
    "    if source_file.endswith(SUFFIX):\n",
    "        _df = pd.read_csv(RESULT_FOLDER + '/' + source_file,\n",
    "                          parse_dates=['date'],\n",
    "                          index_col=0)\n",
    "        [_index, _model_type, _, _threshold,_] = source_file\\\n",
    "            .replace(SUFFIX, '')\\\n",
    "            .replace('ma50', '')\\\n",
    "            .replace('portfolio_result_long', '')\\\n",
    "            .split('-')\n",
    "        print(_index, _model_type, _threshold)\n",
    "        _index_return_df = pd.read_csv(INDEX_PORTFOLIO_FOLDER + '/' + _index + '.csv',\n",
    "                                       parse_dates=['date'],\n",
    "                                       index_col=0)\n",
    "        _df.rename(columns={'capital': 'portfolio'}, inplace=True)\n",
    "        _index_return_df.rename(columns={'capital': 'index'}, inplace=True)\n",
    "        combined = _df.merge(_index_return_df, how='left', on='date')\n",
    "        combined = combined.drop(columns=['long_count', 'short_count'])\n",
    "        combined.set_index(['date'], inplace=True)\n",
    "        combined['index_adjusted_port'] = (\n",
    "            combined['portfolio'] - combined['index'] + INITIAL_CAPITAL\n",
    "        )\n",
    "        combined.plot()\n",
    "        plt.savefig(RESULT_FOLDER + '/_index_adjust/index_adjusted_' + source_file.replace('.csv', '.png'))\n",
    "        plt.clf()\n",
    "        combined.to_csv(RESULT_FOLDER + '/_index_adjust/index_adjusted_' + source_file)"
   ]
  },
  {
   "cell_type": "code",
   "execution_count": null,
   "id": "d0166fa6",
   "metadata": {},
   "outputs": [],
   "source": []
  }
 ],
 "metadata": {
  "kernelspec": {
   "display_name": "Python 3 (ipykernel)",
   "language": "python",
   "name": "python3"
  },
  "language_info": {
   "codemirror_mode": {
    "name": "ipython",
    "version": 3
   },
   "file_extension": ".py",
   "mimetype": "text/x-python",
   "name": "python",
   "nbconvert_exporter": "python",
   "pygments_lexer": "ipython3",
   "version": "3.9.13"
  }
 },
 "nbformat": 4,
 "nbformat_minor": 5
}
