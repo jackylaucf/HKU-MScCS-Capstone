{
 "cells": [
  {
   "cell_type": "code",
   "execution_count": 5,
   "id": "dd0de4a2",
   "metadata": {},
   "outputs": [],
   "source": [
    "import csv\n",
    "import matplotlib.pyplot as plt\n",
    "import numpy as np\n",
    "import os\n",
    "import pandas as pd\n",
    "\n",
    "from pathlib import Path"
   ]
  },
  {
   "cell_type": "markdown",
   "id": "e8932a1c",
   "metadata": {},
   "source": [
    "## Create Stock Return Dataset"
   ]
  },
  {
   "cell_type": "code",
   "execution_count": 21,
   "id": "fcb87815",
   "metadata": {},
   "outputs": [],
   "source": [
    "def append_return_cols(market_index: str, dry_run: bool):\n",
    "    file_path = f'../../../dataset/market_data/output/{market_index}'\n",
    "    for item in os.scandir(file_path):\n",
    "        if item.is_file() and 'CONSTITUENTS_' in item.path:\n",
    "            with open(item.path, newline='') as file:\n",
    "                df = pd.read_csv(file).sort_values(by=['date'])\n",
    "                df = df.loc[~df['volume'].isin([0, np.nan])][['adj_close', 'date']]\n",
    "                ticker = item.path.rpartition('_')[-1].replace('.csv', '')\n",
    "                df['ticker'] = ticker\n",
    "                df['r5'] = df['adj_close'].pct_change(periods=4).shift(-4)\n",
    "                df['r20'] = df['adj_close'].pct_change(periods=19).shift(-19)\n",
    "                df['r60'] = df['adj_close'].pct_change(periods=59).shift(-59)\n",
    "                df['r250'] = df['adj_close'].pct_change(periods=249).shift(-249)\n",
    "                if not dry_run:\n",
    "                    target_folder = f'../../../dataset/returns/{market_index}'\n",
    "                    Path(target_folder).mkdir(parents=True, exist_ok=True)\n",
    "                    df.to_pickle(f'{target_folder}/RETURN_{ticker}.pkl')"
   ]
  },
  {
   "cell_type": "code",
   "execution_count": 23,
   "id": "c098b298",
   "metadata": {},
   "outputs": [],
   "source": [
    "append_return_cols('kospi_100', False)"
   ]
  },
  {
   "cell_type": "markdown",
   "id": "4a722bf2",
   "metadata": {},
   "source": [
    "## Calculate the Return Percentile"
   ]
  },
  {
   "cell_type": "code",
   "execution_count": 6,
   "id": "e35b247e",
   "metadata": {},
   "outputs": [],
   "source": [
    "def return_distribution(market_index: str):\n",
    "    return_data = None\n",
    "    for item in os.scandir(f'../../../dataset/returns/{market_index}'):\n",
    "        if item.path.endswith('.pkl'):\n",
    "            df = pd.read_pickle(os.path.abspath(item.path))\n",
    "            return_data = pd.concat([return_data, df], ignore_index=True) if isinstance(return_data, pd.DataFrame) else df\n",
    "    stat = []\n",
    "    for col in ('r5', 'r20', 'r60', 'r250'):\n",
    "        data = return_data[col].dropna()\n",
    "        percentile = {\n",
    "            'period': col,\n",
    "            '25_percentile': data.quantile(0.25),\n",
    "            '33_percentile': data.quantile(0.33),\n",
    "            '50_percentile': data.quantile(0.5),\n",
    "            '66_percentile': data.quantile(0.66),\n",
    "            '75_percentile': data.quantile(0.75)\n",
    "        }\n",
    "        stat.append(percentile)\n",
    "    print(pd.DataFrame(stat))\n"
   ]
  },
  {
   "cell_type": "code",
   "execution_count": 14,
   "id": "08c2a16f",
   "metadata": {},
   "outputs": [
    {
     "name": "stdout",
     "output_type": "stream",
     "text": [
      "  period  25_percentile  33_percentile  50_percentile  66_percentile  \\\n",
      "0     r5      -0.026166      -0.015891       0.000000       0.016609   \n",
      "1    r20      -0.056180      -0.033320       0.005618       0.044304   \n",
      "2    r60      -0.093750      -0.054173       0.017138       0.092287   \n",
      "3   r250      -0.154447      -0.072364       0.086940       0.273452   \n",
      "\n",
      "   75_percentile  \n",
      "0       0.028600  \n",
      "1       0.073229  \n",
      "2       0.150175  \n",
      "3       0.428385  \n"
     ]
    }
   ],
   "source": [
    "return_distribution('nikkei_mid_small_cap')"
   ]
  },
  {
   "cell_type": "code",
   "execution_count": null,
   "id": "b0675ae4",
   "metadata": {},
   "outputs": [],
   "source": []
  }
 ],
 "metadata": {
  "kernelspec": {
   "display_name": "Python 3 (ipykernel)",
   "language": "python",
   "name": "python3"
  },
  "language_info": {
   "codemirror_mode": {
    "name": "ipython",
    "version": 3
   },
   "file_extension": ".py",
   "mimetype": "text/x-python",
   "name": "python",
   "nbconvert_exporter": "python",
   "pygments_lexer": "ipython3",
   "version": "3.11.5"
  }
 },
 "nbformat": 4,
 "nbformat_minor": 5
}
