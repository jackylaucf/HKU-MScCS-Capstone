{
 "cells": [
  {
   "cell_type": "code",
   "execution_count": null,
   "id": "4892964f",
   "metadata": {},
   "outputs": [],
   "source": [
    "import math\n",
    "import numbers\n",
    "import os\n",
    "import pandas as pd\n",
    "import platform\n",
    "import shutil\n",
    "import time\n",
    "\n",
    "from datetime import date\n",
    "from sklearn.model_selection import train_test_split\n",
    "from tqdm.notebook import tqdm"
   ]
  },
  {
   "cell_type": "markdown",
   "id": "aa34af3d",
   "metadata": {},
   "source": [
    "## Split Data & Create the Folders for Training and Testing"
   ]
  },
  {
   "cell_type": "code",
   "execution_count": null,
   "id": "d46dab24",
   "metadata": {},
   "outputs": [],
   "source": [
    "def create_training_space(market_index: str, lookback_days: int, forecast_days: int, ma_line: int, margins: tuple):\n",
    "    workspace = os.path.abspath(f'../../../training/{market_index}/i{lookback_days}-r{forecast_days}-ma{ma_line}')\n",
    "    os.makedirs(workspace, exist_ok=True)\n",
    "    \n",
    "    train_folder_path = os.path.join(workspace, 'input/train')\n",
    "    test_folder_path = os.path.join(workspace, 'input/test')\n",
    "    portfolio_folder_path = os.path.abspath(f'../../../portfolio/{market_index}/i{lookback_days}-r{forecast_days}-ma{ma_line}/input')\n",
    "    os.makedirs(portfolio_folder_path, exist_ok=True)\n",
    "    for cls_label in (0, 1, 2):\n",
    "        os.makedirs(os.path.join(train_folder_path, str(cls_label)), exist_ok=True)\n",
    "        os.makedirs(os.path.join(test_folder_path, str(cls_label)), exist_ok=True)\n",
    "    \n",
    "    graph_data_folder = f'../../../dataset/ohlc_graphs/{market_index}/i{lookback_days}-ma{ma_line}'\n",
    "    train_files, test_files = train_test_split(os.listdir(graph_data_folder), test_size=0.2)\n",
    "    \n",
    "    return_data = None\n",
    "    for item in os.scandir(f'../../../dataset/returns/{market_index}'):\n",
    "        if item.path.endswith('.pkl'):\n",
    "            df = pd.read_pickle(os.path.abspath(item.path))\n",
    "            return_data = pd.concat([return_data, df], ignore_index=True) if isinstance(return_data, pd.DataFrame) else df\n",
    "    \n",
    "    return_data = return_data.set_index(['date', 'ticker'])\n",
    "    for file in tqdm(train_files):\n",
    "        ticker, dt = file.replace('.png', '').split('_')\n",
    "        return_val = return_data.loc[dt, ticker][f'r{forecast_days}']\n",
    "        if isinstance(return_val, numbers.Number) and not math.isnan(return_val):\n",
    "            src_path = os.path.join(graph_data_folder, file)\n",
    "            if date.fromisoformat(dt) > date(2014, 3, 31):\n",
    "                shutil.copy(src_path, os.path.join(portfolio_folder_path, file))\n",
    "            else:\n",
    "                if return_val < margins[0]:\n",
    "                    label = 0\n",
    "                elif return_val > margins[1]:\n",
    "                    label = 2\n",
    "                else:\n",
    "                    label = 1\n",
    "                shutil.copy(src_path, os.path.join(train_folder_path, str(label), file))\n",
    "\n",
    "    for file in tqdm(test_files):\n",
    "        ticker, dt = file.replace('.png', '').split('_')\n",
    "        return_val = return_data.loc[dt, ticker][f'r{forecast_days}']\n",
    "        if isinstance(return_val, numbers.Number) and not math.isnan(return_val):\n",
    "            src_path = os.path.join(graph_data_folder, file)\n",
    "            if date.fromisoformat(dt) > date(2014, 3, 31):\n",
    "                shutil.copy(src_path, os.path.join(portfolio_folder_path, file))\n",
    "            else:\n",
    "                if return_val < margins[0]:\n",
    "                    label = 0\n",
    "                elif return_val > margins[1]:\n",
    "                    label = 2\n",
    "                else:\n",
    "                    label = 1\n",
    "                shutil.copy(src_path, os.path.join(test_folder_path, str(label), file))\n",
    "\n",
    "# Moving graphs to the /training folder\n",
    "# create_training_space('nikkei_mid_small_cap', 250, 5, 50, (-0.015891, 0.016609))\n",
    "# create_training_space('nikkei_mid_small_cap', 250, 20, 50, (-0.033320, 0.044304))\n",
    "# create_training_space('nikkei_mid_small_cap', 250, 60, 50, (-0.054173, 0.092287))\n",
    "create_training_space('nikkei_mid_small_cap', 250, 250, 50, (-0.072364, 0.273452))\n"
   ]
  }
 ],
 "metadata": {
  "kernelspec": {
   "display_name": "Python 3 (ipykernel)",
   "language": "python",
   "name": "python3"
  },
  "language_info": {
   "codemirror_mode": {
    "name": "ipython",
    "version": 3
   },
   "file_extension": ".py",
   "mimetype": "text/x-python",
   "name": "python",
   "nbconvert_exporter": "python",
   "pygments_lexer": "ipython3",
   "version": "3.11.5"
  }
 },
 "nbformat": 4,
 "nbformat_minor": 5
}
