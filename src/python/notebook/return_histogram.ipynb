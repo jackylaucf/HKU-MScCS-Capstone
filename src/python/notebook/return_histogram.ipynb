{
 "cells": [
  {
   "cell_type": "code",
   "execution_count": null,
   "id": "135cdb77",
   "metadata": {},
   "outputs": [],
   "source": [
    "import numpy as np\n",
    "import pandas as pd\n",
    "import os\n",
    "from tqdm.notebook import tqdm\n",
    "import matplotlib.pyplot as plt"
   ]
  },
  {
   "cell_type": "code",
   "execution_count": null,
   "id": "86a55c1c",
   "metadata": {},
   "outputs": [],
   "source": [
    "# for long-short\n",
    "RESULT_FOLDER = os.path.abspath('./portfolio/output')\n",
    "\n",
    "for source_file in tqdm(os.listdir(RESULT_FOLDER)):\n",
    "    if source_file.endswith('result.csv'):\n",
    "        _raw = pd.read_csv(RESULT_FOLDER + '/' + source_file, index_col=0)\n",
    "        _value = []\n",
    "        for i in range(1, len(_raw)):\n",
    "            _value.append(\n",
    "                _raw.iloc[i]['capital'] / _raw.iloc[i - 1]['capital'] - 1\n",
    "            )\n",
    "        _data = np.array(_value)\n",
    "        #unique, counts = np.unique(_data, return_counts=True)\n",
    "        #print(unique, counts)\n",
    "        plt.hist(_data, bins=100)\n",
    "        #plt.show()\n",
    "        plt.savefig('./return_histogram/' + source_file.replace('.csv', '.png'))\n",
    "        plt.clf()\n"
   ]
  },
  {
   "cell_type": "code",
   "execution_count": null,
   "id": "61026843",
   "metadata": {},
   "outputs": [],
   "source": [
    "# for long-index-adjusted\n",
    "RESULT_FOLDER = os.path.abspath('./portfolio/output/_index_adjust')\n",
    "\n",
    "for source_file in tqdm(os.listdir(RESULT_FOLDER)):\n",
    "    if source_file.endswith('_long.csv'):\n",
    "        _raw = pd.read_csv(RESULT_FOLDER + '/' + source_file, index_col=0)\n",
    "        _value = []\n",
    "        for i in range(1, len(_raw)):\n",
    "            _value.append(\n",
    "                _raw.iloc[i]['portfolio'] / _raw.iloc[i - 1]['portfolio'] - 1\n",
    "            )\n",
    "        _data = np.array(_value)\n",
    "        #unique, counts = np.unique(_data, return_counts=True)\n",
    "        #print(unique, counts)\n",
    "        plt.hist(_data, bins=100)\n",
    "        #plt.show()\n",
    "        plt.savefig('./return_histogram/_index_adjust/' + source_file.replace('.csv', '.png'))\n",
    "        plt.clf()\n"
   ]
  },
  {
   "cell_type": "code",
   "execution_count": null,
   "id": "91a2ce6b",
   "metadata": {},
   "outputs": [],
   "source": [
    "# for hsi sector long-index-adjusted\n",
    "RESULT_FOLDER = os.path.abspath('./portfolio/output/_index_adjust')\n",
    "\n",
    "for source_file in tqdm(os.listdir(RESULT_FOLDER)):\n",
    "    if source_file.endswith('.csv'):\n",
    "        _raw = pd.read_csv(RESULT_FOLDER + '/' + source_file, index_col=0)\n",
    "        _value = []\n",
    "        for i in range(1, len(_raw)):\n",
    "            _value.append(\n",
    "                _raw.iloc[i]['portfolio'] / _raw.iloc[i - 1]['portfolio'] - 1\n",
    "            )\n",
    "        _data = np.array(_value)\n",
    "        #unique, counts = np.unique(_data, return_counts=True)\n",
    "        #print(unique, counts)\n",
    "        plt.hist(_data, bins=100)\n",
    "        #plt.show()\n",
    "        plt.savefig('./return_histogram/_index_adjust/_hsi_sector/' + source_file.replace('.csv', '.png'))\n",
    "        plt.clf()\n"
   ]
  },
  {
   "cell_type": "code",
   "execution_count": null,
   "id": "5f4e9a27",
   "metadata": {},
   "outputs": [],
   "source": [
    "# for hsi sector long-short\n",
    "RESULT_FOLDER = os.path.abspath('./portfolio/output')\n",
    "\n",
    "for source_file in tqdm(os.listdir(RESULT_FOLDER)):\n",
    "    if source_file.endswith('.csv'):\n",
    "        _raw = pd.read_csv(RESULT_FOLDER + '/' + source_file, index_col=0)\n",
    "        _value = []\n",
    "        for i in range(1, len(_raw)):\n",
    "            _value.append(\n",
    "                _raw.iloc[i]['capital'] / _raw.iloc[i - 1]['capital'] - 1\n",
    "            )\n",
    "        _data = np.array(_value)\n",
    "        #unique, counts = np.unique(_data, return_counts=True)\n",
    "        #print(unique, counts)\n",
    "        plt.hist(_data, bins=100)\n",
    "        #plt.show()\n",
    "        plt.savefig('./return_histogram/_hsi_sector/' + source_file.replace('.csv', '.png'))\n",
    "        plt.clf()\n"
   ]
  },
  {
   "cell_type": "code",
   "execution_count": null,
   "id": "21ebe9b5",
   "metadata": {},
   "outputs": [],
   "source": []
  }
 ],
 "metadata": {
  "kernelspec": {
   "display_name": "Python 3 (ipykernel)",
   "language": "python",
   "name": "python3"
  },
  "language_info": {
   "codemirror_mode": {
    "name": "ipython",
    "version": 3
   },
   "file_extension": ".py",
   "mimetype": "text/x-python",
   "name": "python",
   "nbconvert_exporter": "python",
   "pygments_lexer": "ipython3",
   "version": "3.9.13"
  }
 },
 "nbformat": 4,
 "nbformat_minor": 5
}
